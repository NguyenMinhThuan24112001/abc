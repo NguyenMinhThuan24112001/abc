{
 "cells": [
  {
   "cell_type": "code",
   "execution_count": 1,
   "metadata": {},
   "outputs": [
    {
     "name": "stdout",
     "output_type": "stream",
     "text": [
      "Requirement already satisfied: covid in c:\\programdata\\anaconda3\\lib\\site-packages (2.4.0)\n",
      "Requirement already satisfied: requests in c:\\programdata\\anaconda3\\lib\\site-packages (from covid) (2.24.0)\n",
      "Requirement already satisfied: beautifulsoup4 in c:\\programdata\\anaconda3\\lib\\site-packages (from covid) (4.9.3)\n",
      "Requirement already satisfied: pydantic in c:\\programdata\\anaconda3\\lib\\site-packages (from covid) (1.8.1)\n",
      "Requirement already satisfied: typer in c:\\programdata\\anaconda3\\lib\\site-packages (from covid) (0.3.2)\n",
      "Requirement already satisfied: urllib3!=1.25.0,!=1.25.1,<1.26,>=1.21.1 in c:\\programdata\\anaconda3\\lib\\site-packages (from requests->covid) (1.25.11)\n",
      "Requirement already satisfied: certifi>=2017.4.17 in c:\\programdata\\anaconda3\\lib\\site-packages (from requests->covid) (2020.6.20)\n",
      "Requirement already satisfied: chardet<4,>=3.0.2 in c:\\programdata\\anaconda3\\lib\\site-packages (from requests->covid) (3.0.4)\n",
      "Requirement already satisfied: idna<3,>=2.5 in c:\\programdata\\anaconda3\\lib\\site-packages (from requests->covid) (2.10)\n",
      "Requirement already satisfied: soupsieve>1.2; python_version >= \"3.0\" in c:\\programdata\\anaconda3\\lib\\site-packages (from beautifulsoup4->covid) (2.0.1)\n",
      "Requirement already satisfied: typing-extensions>=3.7.4.3 in c:\\programdata\\anaconda3\\lib\\site-packages (from pydantic->covid) (3.7.4.3)\n",
      "Requirement already satisfied: click<7.2.0,>=7.1.1 in c:\\programdata\\anaconda3\\lib\\site-packages (from typer->covid) (7.1.2)\n",
      "Note: you may need to restart the kernel to use updated packages.\n"
     ]
    }
   ],
   "source": [
    "%pip install covid\n"
   ]
  },
  {
   "cell_type": "code",
   "execution_count": null,
   "metadata": {},
   "outputs": [
    {
     "name": "stdout",
     "output_type": "stream",
     "text": [
      "In the World\n",
      "   Total confirmed cases:  171196260\n",
      "      Total active cases:   26060480\n",
      "         Total recovered:  108759689\n",
      "            Total deaths:    3565444\n",
      "\n",
      "_____ ***** _____ _____ ***** _____ _____ ***** _____\n",
      "Danh sách các quốc gia\n",
      "   ID Name\n",
      "    1 Afghanistan\n",
      "   37 China\n",
      "   11 Italy\n",
      "   14 Russia\n",
      "   17 United Kingdom\n",
      "   18 US\n",
      "   25 Japan\n",
      "   27 India\n",
      "  108 Laos\n",
      "  183 Uzbekistan\n"
     ]
    }
   ],
   "source": [
    "from datetime import datetime\n",
    "from covid import Covid\n",
    "\n",
    "\n",
    "covid = Covid()\n",
    "\n",
    "# Toàn thế giới tính đến thời điểm chạy chương trình\n",
    "print('In the World')\n",
    "print('%25s' % 'Total confirmed cases:', '%10s' % covid.get_total_confirmed_cases())\n",
    "print('%25s' % 'Total active cases:', '%10s' % covid.get_total_active_cases())\n",
    "print('%25s' % 'Total recovered:', '%10s' % covid.get_total_recovered())\n",
    "print('%25s' % 'Total deaths:', '%10s' % covid.get_total_deaths())\n",
    "\n",
    "# print(covid.list_countries())\n",
    "\n",
    "# Tính đến thời điểm chạy chương trình của một quốc gia cụ thể\n",
    "list_countries = {\n",
    "        0: 'Stop',\n",
    "        1: 'Afghanistan',\n",
    "        37: 'China',\n",
    "        11: 'Italy',\n",
    "        14: 'Russia',\n",
    "        17: 'United Kingdom',\n",
    "        18: 'US',\n",
    "        25: 'Japan',\n",
    "        27: 'India',\n",
    "        108: 'Laos',\n",
    "        183: 'Uzbekistan',\n",
    "    }\n",
    "while True:\n",
    "    print('\\n_____ ***** _____ _____ ***** _____ _____ ***** _____')\n",
    "    print('Danh sách các quốc gia')\n",
    "    print('%5s' % 'ID', 'Name')\n",
    "    for id in list_countries:\n",
    "        if id != 0:\n",
    "            print('%5d' % id, list_countries.get(id))\n",
    "\n",
    "    try:\n",
    "        id_country = int(input('Nhập ID quốc gia bạn muốn truy vấn theo DS trên hoặc 0 nếu muốn kết thúc: '))\n",
    "        while id_country not in list_countries:\n",
    "            id_country = int(input('ID quốc gia nhập không đúng, xin vui lòng nhập lại:'))\n",
    "    except:\n",
    "        print('Bạn đã nhập không đúng :(')\n",
    "        id_country = 0\n",
    "\n",
    "    print('%s ==>> %s' % (id_country, list_countries[id_country]))\n",
    "    if id_country == 0:\n",
    "        break\n",
    "    else:\n",
    "        country_data = covid.get_status_by_country_id(id_country)\n",
    "        country = country_data['country']\n",
    "        confirmed = country_data['confirmed']\n",
    "        active = country_data['active']\n",
    "        deaths = country_data['deaths']\n",
    "        recovered = country_data['recovered']\n",
    "        latitude = country_data['latitude']\n",
    "        longitude = country_data['longitude']\n",
    "        last_update = datetime.fromtimestamp(country_data['last_update']/1000)\n",
    "        print('_____ ***** _____ _____ ***** _____')\n",
    "        print('Cập nhật vào lúc:', last_update, 'Quốc gia:', country, '(vĩ độ %s, kinh độ %s):' % (latitude, longitude))\n",
    "        print('%12s' % 'Tổng số ca:', '%10s' % confirmed)\n",
    "        print('%12s' % 'Tử vong:', '%10s' % deaths)\n",
    "        print('%12s' % 'Phục hồi:', '%10s' % recovered)\n",
    "        print('%12s' % 'Vẫn còn:', '%10s' % active)\n",
    "        print('_____ ***** _____ _____ ***** _____')\n",
    "\n",
    "    kt = input('Nhập 0 nếu muốn kết thúc HOẶC \"enter\" để tiếp tục: ')\n",
    "    if kt == '0':\n",
    "        print('%s ==>> Stop' % kt)\n",
    "        break\n",
    "    else:\n",
    "        print('%s ==>> Continue' % kt)\n",
    "        continue"
   ]
  },
  {
   "cell_type": "code",
   "execution_count": null,
   "metadata": {},
   "outputs": [],
   "source": []
  },
  {
   "cell_type": "code",
   "execution_count": null,
   "metadata": {},
   "outputs": [],
   "source": []
  }
 ],
 "metadata": {
  "kernelspec": {
   "display_name": "Python 3",
   "language": "python",
   "name": "python3"
  },
  "language_info": {
   "codemirror_mode": {
    "name": "ipython",
    "version": 3
   },
   "file_extension": ".py",
   "mimetype": "text/x-python",
   "name": "python",
   "nbconvert_exporter": "python",
   "pygments_lexer": "ipython3",
   "version": "3.8.5"
  }
 },
 "nbformat": 4,
 "nbformat_minor": 4
}
